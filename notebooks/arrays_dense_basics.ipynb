{
 "cells": [
  {
   "cell_type": "markdown",
   "id": "98873b91",
   "metadata": {},
   "source": [
    "# Dense Array Basics"
   ]
  },
  {
   "cell_type": "markdown",
   "id": "ebf09493",
   "metadata": {},
   "source": [
    "In this tutorial you will learn how to:\n",
    "* create a dense array\n",
    "* inspect the array schema\n",
    "* write to and read from the array\n",
    "* write and read array metadata\n",
    "* create arrays with multiple attributes and var-sized attributes\n",
    "* treat dense arrays as dataframes and even run SQL queries"
   ]
  },
  {
   "cell_type": "markdown",
   "id": "4a292233-655e-454c-b42b-70eebe4f63e7",
   "metadata": {
    "tags": []
   },
   "source": [
    "## Necessary Libraries\n",
    "\n",
    "You need to install [TileDB-Py](https://github.com/TileDB-Inc/TileDB-Py), the Python wrapper of [TileDB Embedded](https://github.com/TileDB-Inc/TileDB), as follows:\n",
    "\n",
    "```bash\n",
    "# Pip:\n",
    "$ pip install tiledb\n",
    "\n",
    "# Or Conda:\n",
    "$ conda install -c conda-forge tiledb-py\n",
    "```\n",
    "\n",
    "You'll also need to install pandas and numpy\n",
    "\n",
    "```bash\n",
    "# Pip:\n",
    "$ pip install numpy pandas\n",
    "\n",
    "# Or Conda:\n",
    "$ conda install numpy pandas\n",
    "```\n",
    "\n",
    "Note that the TileDB core is a C++ library. To boost performance when integrating with pandas, we use Apache Arrow to achieve zero-copy when returning results from TileDB into pandas dataframes. You need to **install pyarrow** to take advantage of this optimization.\n",
    "\n",
    "```bash\n",
    "# Pip:\n",
    "$ pip install pyarrow\n",
    "\n",
    "# Or Conda:\n",
    "$ conda install -c conda-forge pyarrow\n",
    "```\n",
    "\n",
    "One of the cool things about TileDB is that it offers a powerful integration with embedded MariaDB. This allows for execution of arbitrary SQL queries directly on TileDB arrays (both dense and sparse). We took appropriate care to push the fast slicing, column subselecting and column conditions of the query down to TileDB, leaving the rest of the SQL execution to MariaDB.\n",
    "\n",
    "To install this capability, run:\n",
    "```bash\n",
    "conda install -c conda-forge libtiledb-sql-py\n",
    "```"
   ]
  },
  {
   "cell_type": "markdown",
   "id": "738744d2-e6b2-48a3-84bc-c34536b09d7c",
   "metadata": {},
   "source": [
    "## Setup\n",
    "\n",
    "We first start by importing the libraries we will use in this tutorial (ignore any thrown mysql errors/warnings, they are benign)."
   ]
  },
  {
   "cell_type": "code",
   "execution_count": 1,
   "id": "a296d765-afa1-416c-b020-4003f1cd6342",
   "metadata": {},
   "outputs": [
    {
     "name": "stdout",
     "output_type": "stream",
     "text": [
      "TileDB core version: (2, 11, 1)\n",
      "TileDB-Py version: (0, 17, 2)\n",
      "TileDB-SQL-Py version: 0.18.1\n"
     ]
    },
    {
     "name": "stderr",
     "output_type": "stream",
     "text": [
      "Got ERROR: \"Could not open mysql.plugin table: \"Table 'mysql.plugin' doesn't exist\". Some plugins may be not loaded\" errno: 2000\n",
      "Got ERROR: \"Can't open and lock privilege tables: Table 'mysql.servers' doesn't exist\" errno: 2000\n",
      "Got ERROR: \"Can't open the mysql.func table. Please run mysql_upgrade to create it.\" errno: 2000\n",
      "/home/jdblischak/miniconda3/envs/tiledb/lib/python3.10/site-packages/pandas/io/sql.py:762: UserWarning: pandas only support SQLAlchemy connectable(engine/connection) ordatabase string URI or sqlite3 DBAPI2 connectionother DBAPI2 objects are not tested, please consider using SQLAlchemy\n",
      "  warnings.warn(\n"
     ]
    }
   ],
   "source": [
    "import pandas as pd, numpy as np\n",
    "import shutil, urllib.request, os.path\n",
    "import tiledb, tiledb.sql\n",
    "\n",
    "print(\"TileDB core version: {}\".format(tiledb.libtiledb.version()))\n",
    "print(\"TileDB-Py version: {}\".format(tiledb.version()))\n",
    "db = tiledb.sql.connect()\n",
    "print(\"TileDB-SQL-Py version: {}\".format(pd.read_sql(\"SELECT PLUGIN_AUTH_VERSION FROM information_schema.PLUGINS WHERE PLUGIN_NAME='mytile'\", con=db)['PLUGIN_AUTH_VERSION'][0]))"
   ]
  },
  {
   "cell_type": "markdown",
   "id": "83e8ac3a-e9f8-4db8-96da-50a75ca20f69",
   "metadata": {},
   "source": [
    "Before we start, we create the TileDB context passing a **configuration parameter** around memory allocation during read queries that will be explained in a later tutorial. That needs to be set at the *very beginning* of the code and before any other TileDB function is called."
   ]
  },
  {
   "cell_type": "code",
   "execution_count": 2,
   "id": "50c64345-88c5-4040-8d4a-8da75ace117a",
   "metadata": {},
   "outputs": [
    {
     "data": {
      "text/plain": [
       "tiledb.Ctx() [see Ctx.config() for configuration]"
      ]
     },
     "execution_count": 2,
     "metadata": {},
     "output_type": "execute_result"
    }
   ],
   "source": [
    "# Sets the buffer size parameter to 50MB. TileDB will allocate 50MB per attribute at the\n",
    "# start of the query, but if the result is larger, TileDB will automatically expand \n",
    "# the buffers to fit the whole result.\n",
    "cfg = tiledb.Ctx().config()\n",
    "cfg.update(\n",
    "  {\n",
    "    'py.init_buffer_bytes': 1024**2 * 50\n",
    "  }\n",
    ")\n",
    "tiledb.default_ctx(cfg)"
   ]
  },
  {
   "cell_type": "markdown",
   "id": "d87e66e8-0bfd-4487-a139-6874c78ccb5a",
   "metadata": {},
   "source": [
    "Below are the names of the arrays we will create. If you are running this on TileDB Cloud, you should use `~/` to store everything in the home directory of your dedicated EBS volume."
   ]
  },
  {
   "cell_type": "code",
   "execution_count": 8,
   "id": "72f510ff-c2ad-4bc0-84de-02d0c4fa178d",
   "metadata": {},
   "outputs": [],
   "source": [
    "if not os.path.exists(\"data\"):\n",
    "    os.mkdir(\"data\")\n",
    "array_dense_1 = os.path.expanduser(\"data/array_dense_1\")\n",
    "array_dense_2 = os.path.expanduser(\"data/array_dense_2\")\n",
    "array_dense_3 = os.path.expanduser(\"data/array_dense_3\")"
   ]
  },
  {
   "cell_type": "markdown",
   "id": "c3c4d0a8-b529-40b4-8e7c-9972318925b7",
   "metadata": {},
   "source": [
    "Remove the arrays if they already exist."
   ]
  },
  {
   "cell_type": "code",
   "execution_count": 9,
   "id": "389ae239-edae-4ba7-a6f0-40dd2f23fa4a",
   "metadata": {},
   "outputs": [],
   "source": [
    "if os.path.exists(array_dense_1):\n",
    "    shutil.rmtree(array_dense_1)\n",
    "if os.path.exists(array_dense_2):\n",
    "    shutil.rmtree(array_dense_2)\n",
    "if os.path.exists(array_dense_3):\n",
    "    shutil.rmtree(array_dense_3)"
   ]
  },
  {
   "cell_type": "markdown",
   "id": "6efad429",
   "metadata": {},
   "source": [
    "## A simple 2D dense array"
   ]
  },
  {
   "cell_type": "markdown",
   "id": "5a0ef1a5",
   "metadata": {},
   "source": [
    "We will create a 2D dense array, with dimensions `d1` and `d2` and domains `[1,4]`. The array will also have a single integer attribute `a`."
   ]
  },
  {
   "cell_type": "code",
   "execution_count": 10,
   "id": "9ce48a99",
   "metadata": {},
   "outputs": [],
   "source": [
    "# Create the two dimensions\n",
    "d1 = tiledb.Dim(name=\"d1\", domain=(1, 4), tile=2, dtype=np.int32)\n",
    "d2 = tiledb.Dim(name=\"d2\", domain=(1, 4), tile=2, dtype=np.int32)\n",
    "\n",
    "# Create a domain using the two dimensions\n",
    "dom1 = tiledb.Domain(d1, d2)\n",
    "\n",
    "# Create an attribute\n",
    "a = tiledb.Attr(name=\"a\", dtype=np.int32)\n",
    "\n",
    "# Create the array schema, setting `sparse=False` to indicate a dense array\n",
    "schema1 = tiledb.ArraySchema(domain=dom1, sparse=False, attrs=[a])\n",
    "\n",
    "# Create the array on disk (it will initially be empty)\n",
    "tiledb.Array.create(array_dense_1, schema1)"
   ]
  },
  {
   "cell_type": "markdown",
   "id": "a92a56d4",
   "metadata": {},
   "source": [
    "Let's view the contents of the array so far (we use the `tree` package):"
   ]
  },
  {
   "cell_type": "code",
   "execution_count": 12,
   "id": "26b39a6f",
   "metadata": {},
   "outputs": [
    {
     "name": "stdout",
     "output_type": "stream",
     "text": [
      "\u001b[01;34mdata/array_dense_1\u001b[0m\r\n",
      "├── \u001b[01;34m__commits\u001b[0m\r\n",
      "├── \u001b[01;34m__fragment_meta\u001b[0m\r\n",
      "├── \u001b[01;34m__fragments\u001b[0m\r\n",
      "├── \u001b[01;34m__meta\u001b[0m\r\n",
      "└── \u001b[01;34m__schema\u001b[0m\r\n",
      "    └── __1662754126687_1662754126687_48ef60b4285d4bfab2201b05d7b893da\r\n",
      "\r\n",
      "5 directories, 1 file\r\n"
     ]
    }
   ],
   "source": [
    "!tree $array_dense_1"
   ]
  },
  {
   "cell_type": "markdown",
   "id": "16fdb0f1",
   "metadata": {},
   "source": [
    "The array does not contain any data yet. It only has an array schema file inside the `__schema` folder that describes the array (e.g., the number of dimensions, their names and types, etc)."
   ]
  },
  {
   "cell_type": "markdown",
   "id": "0bd2ca7a",
   "metadata": {},
   "source": [
    "To inspect the array schema, simply run:"
   ]
  },
  {
   "cell_type": "code",
   "execution_count": 13,
   "id": "bdcf6e9e",
   "metadata": {},
   "outputs": [
    {
     "data": {
      "text/html": [
       "<table><tr><th>Domain</th></tr><tr><td><table><tr><th>Name</th><th>Domain</th><th>Tile</th><th>Data Type</th><th>Is Var-length</th><th>Filters</th></tr><tr><td>d1</td><td>(1, 4)</td><td>2</td><td>int32</td><td>False</td><td>-</td></tr><tr><td>d2</td><td>(1, 4)</td><td>2</td><td>int32</td><td>False</td><td>-</td></tr></table></td></tr><tr><th>Attributes</th></tr><tr><td><table><tr><th>Name</th><th>Data Type</th><th>Is Var-Len</th><th>Is Nullable</th><th>Filters</th></tr><tr><td>a</td><td>int32</td><td>False</td><td>False</td><td>-</td></tr></table></td></tr><tr><th>Cell Order</th></tr><tr><td>row-major</td></tr><tr><th>Tile Order</th></tr><tr><td>row-major</td></tr><tr><th>Capacity</th></tr><tr><td>10000</td></tr><tr><th>Sparse</th></tr><tr><td>False</td></tr></table>"
      ],
      "text/plain": [
       "ArraySchema(\n",
       "  domain=Domain(*[\n",
       "    Dim(name='d1', domain=(1, 4), tile=2, dtype='int32'),\n",
       "    Dim(name='d2', domain=(1, 4), tile=2, dtype='int32'),\n",
       "  ]),\n",
       "  attrs=[\n",
       "    Attr(name='a', dtype='int32', var=False, nullable=False),\n",
       "  ],\n",
       "  cell_order='row-major',\n",
       "  tile_order='row-major',\n",
       "  capacity=10000,\n",
       "  sparse=False,\n",
       ")"
      ]
     },
     "execution_count": 13,
     "metadata": {},
     "output_type": "execute_result"
    }
   ],
   "source": [
    "# Read the array schema\n",
    "schema = tiledb.ArraySchema.load(array_dense_1)\n",
    "schema"
   ]
  },
  {
   "cell_type": "markdown",
   "id": "44b28dfc",
   "metadata": {},
   "source": [
    "Now let's write some data to the array, using a 2D numpy array:"
   ]
  },
  {
   "cell_type": "code",
   "execution_count": 14,
   "id": "a21d0b5a",
   "metadata": {},
   "outputs": [
    {
     "data": {
      "text/plain": [
       "array([[ 1,  2,  3,  4],\n",
       "       [ 5,  6,  7,  8],\n",
       "       [ 9, 10, 11, 12],\n",
       "       [13, 14, 15, 16]], dtype=int32)"
      ]
     },
     "execution_count": 14,
     "metadata": {},
     "output_type": "execute_result"
    }
   ],
   "source": [
    "# Prepare some data in a numpy array\n",
    "data = np.array([\n",
    "    [1, 2, 3, 4],\n",
    "    [5, 6, 7, 8],\n",
    "    [9, 10, 11, 12],\n",
    "    [13, 14, 15, 16]], dtype=np.int32)\n",
    "data"
   ]
  },
  {
   "cell_type": "code",
   "execution_count": 15,
   "id": "35e1ccf2",
   "metadata": {},
   "outputs": [],
   "source": [
    "# Open the array in write mode and write to the whole array domain\n",
    "with tiledb.open(array_dense_1, 'w') as A:\n",
    "    A[:] = data"
   ]
  },
  {
   "cell_type": "markdown",
   "id": "cb90c18e",
   "metadata": {},
   "source": [
    "Let's inspect the array again:"
   ]
  },
  {
   "cell_type": "code",
   "execution_count": 16,
   "id": "afbf06f2",
   "metadata": {},
   "outputs": [
    {
     "name": "stdout",
     "output_type": "stream",
     "text": [
      "\u001b[01;34mdata/array_dense_1\u001b[0m\r\n",
      "├── \u001b[01;34m__commits\u001b[0m\r\n",
      "│   └── __1662754250166_1662754250166_d801aa0d50be4dbcb9f85488de467590_15.wrt\r\n",
      "├── \u001b[01;34m__fragment_meta\u001b[0m\r\n",
      "├── \u001b[01;34m__fragments\u001b[0m\r\n",
      "│   └── \u001b[01;34m__1662754250166_1662754250166_d801aa0d50be4dbcb9f85488de467590_15\u001b[0m\r\n",
      "│       ├── __fragment_metadata.tdb\r\n",
      "│       └── a0.tdb\r\n",
      "├── \u001b[01;34m__meta\u001b[0m\r\n",
      "└── \u001b[01;34m__schema\u001b[0m\r\n",
      "    └── __1662754126687_1662754126687_48ef60b4285d4bfab2201b05d7b893da\r\n",
      "\r\n",
      "6 directories, 4 files\r\n"
     ]
    }
   ],
   "source": [
    "!tree $array_dense_1"
   ]
  },
  {
   "cell_type": "markdown",
   "id": "0db38c15",
   "metadata": {},
   "source": [
    "Now there is a fragment directory in the `fragments` folder and a commit file with the same name and suffix `.wrt` in the `commits` folder. "
   ]
  },
  {
   "cell_type": "markdown",
   "id": "4700fcb5",
   "metadata": {},
   "source": [
    "Let's read the array:"
   ]
  },
  {
   "cell_type": "code",
   "execution_count": 17,
   "id": "79d7c4a7-e675-435b-a7fd-bd5c7a2d951a",
   "metadata": {},
   "outputs": [],
   "source": [
    "# Open the array in read mode and read the whole array\n",
    "A = tiledb.open(array_dense_1, 'r')"
   ]
  },
  {
   "cell_type": "code",
   "execution_count": 19,
   "id": "bc650555",
   "metadata": {},
   "outputs": [
    {
     "name": "stdout",
     "output_type": "stream",
     "text": [
      "OrderedDict([('a', array([[ 1,  2,  3,  4],\n",
      "       [ 5,  6,  7,  8],\n",
      "       [ 9, 10, 11, 12],\n",
      "       [13, 14, 15, 16]], dtype=int32))])\n"
     ]
    }
   ],
   "source": [
    "print(A[:])        # dictionary of 2D numpy arrays"
   ]
  },
  {
   "cell_type": "code",
   "execution_count": 20,
   "id": "b3c7cfc7",
   "metadata": {},
   "outputs": [
    {
     "name": "stdout",
     "output_type": "stream",
     "text": [
      "[[ 1  2  3  4]\n",
      " [ 5  6  7  8]\n",
      " [ 9 10 11 12]\n",
      " [13 14 15 16]]\n"
     ]
    }
   ],
   "source": [
    "print(A[:]['a'])   # numpy array"
   ]
  },
  {
   "cell_type": "markdown",
   "id": "72ac7d72-dc7f-43ca-a8ea-2d58319f9cb7",
   "metadata": {},
   "source": [
    "Note that the result of `A[:]` is a dictionary containing a 2D numpy array per attribute."
   ]
  },
  {
   "cell_type": "markdown",
   "id": "5654c8fb",
   "metadata": {},
   "source": [
    "We can also efficiently slice a portion of the array (very useful when the arrays are too big to fit in main memory):"
   ]
  },
  {
   "cell_type": "code",
   "execution_count": 38,
   "id": "cb4920cb",
   "metadata": {},
   "outputs": [
    {
     "name": "stdout",
     "output_type": "stream",
     "text": [
      "[[1]\n",
      " [5]]\n",
      "[[1 2 3 4]\n",
      " [5 6 7 8]]\n",
      "[[ 1]\n",
      " [ 5]\n",
      " [ 9]\n",
      " [13]]\n"
     ]
    }
   ],
   "source": [
    "# ranges start at 1 (unlike Python), the end is exclusive (like Python)\n",
    "print(A[1:3, 1:2][\"a\"])\n",
    "print(A[1:3, :][\"a\"])\n",
    "print(A[:, 1:2][\"a\"])"
   ]
  },
  {
   "cell_type": "markdown",
   "id": "a8cab392",
   "metadata": {},
   "source": [
    "We can even slice a **multi-rage subarray** (note that `multi_index` uses *closed ranges*)."
   ]
  },
  {
   "cell_type": "code",
   "execution_count": 39,
   "id": "5785d39b",
   "metadata": {},
   "outputs": [
    {
     "name": "stdout",
     "output_type": "stream",
     "text": [
      "[[ 1  2  3]\n",
      " [ 5  6  7]\n",
      " [13 14 15]]\n"
     ]
    }
   ],
   "source": [
    "print(A.multi_index[[slice(1,2), 4], slice(1,3)][\"a\"])"
   ]
  },
  {
   "cell_type": "markdown",
   "id": "44b3b1b7-4201-47fa-a908-0a9ce455cb80",
   "metadata": {},
   "source": [
    "Remember to close the array."
   ]
  },
  {
   "cell_type": "code",
   "execution_count": 40,
   "id": "7616b00d-a5c9-4b75-b198-862a0c8416a0",
   "metadata": {},
   "outputs": [],
   "source": [
    "A.close()"
   ]
  },
  {
   "cell_type": "markdown",
   "id": "749a0cf9",
   "metadata": {},
   "source": [
    "## Array metadata"
   ]
  },
  {
   "cell_type": "markdown",
   "id": "bc10117c",
   "metadata": {},
   "source": [
    "You can also attach any **key-value** metadata to an array:"
   ]
  },
  {
   "cell_type": "code",
   "execution_count": 41,
   "id": "58e40524",
   "metadata": {},
   "outputs": [],
   "source": [
    "# Open the array for writing\n",
    "with tiledb.open(array_dense_1, \"w\") as A:\n",
    "    A.meta[\"author\"] = \"Stavros\"\n",
    "    A.meta[\"volume\"] = 2.1\n",
    "    # multiple values of the same type may be written as a tuple:\n",
    "    A.meta[\"tuple_int\"] = (1,2,3,4)"
   ]
  },
  {
   "cell_type": "markdown",
   "id": "f9e492c9",
   "metadata": {},
   "source": [
    "Let's inspect the array again:"
   ]
  },
  {
   "cell_type": "code",
   "execution_count": 42,
   "id": "7c8b1d2e",
   "metadata": {},
   "outputs": [
    {
     "name": "stdout",
     "output_type": "stream",
     "text": [
      "\u001b[01;34mdata/array_dense_1\u001b[0m\r\n",
      "├── \u001b[01;34m__commits\u001b[0m\r\n",
      "│   └── __1662754250166_1662754250166_d801aa0d50be4dbcb9f85488de467590_15.wrt\r\n",
      "├── \u001b[01;34m__fragment_meta\u001b[0m\r\n",
      "├── \u001b[01;34m__fragments\u001b[0m\r\n",
      "│   └── \u001b[01;34m__1662754250166_1662754250166_d801aa0d50be4dbcb9f85488de467590_15\u001b[0m\r\n",
      "│       ├── __fragment_metadata.tdb\r\n",
      "│       └── a0.tdb\r\n",
      "├── \u001b[01;34m__meta\u001b[0m\r\n",
      "│   └── __1662754951764_1662754951764_b5692b3cc0b1479eaca12a8c7824dbeb\r\n",
      "└── \u001b[01;34m__schema\u001b[0m\r\n",
      "    └── __1662754126687_1662754126687_48ef60b4285d4bfab2201b05d7b893da\r\n",
      "\r\n",
      "6 directories, 5 files\r\n"
     ]
    }
   ],
   "source": [
    "!tree $array_dense_1"
   ]
  },
  {
   "cell_type": "markdown",
   "id": "1425c3d9",
   "metadata": {},
   "source": [
    "Now observe that there is a new file inside the `__meta` folder, which contains the key-value pairs we have written."
   ]
  },
  {
   "cell_type": "markdown",
   "id": "afb7bf99",
   "metadata": {},
   "source": [
    "Let's read those values back from the array:"
   ]
  },
  {
   "cell_type": "code",
   "execution_count": 43,
   "id": "f392cf3b",
   "metadata": {},
   "outputs": [
    {
     "name": "stdout",
     "output_type": "stream",
     "text": [
      "Stavros\n",
      "2.1\n",
      "(1, 2, 3, 4)\n",
      "['author', 'tuple_int', 'volume']\n"
     ]
    }
   ],
   "source": [
    "# Open the array for reading\n",
    "with tiledb.open(array_dense_1, \"r\") as A:\n",
    "    # print values from specific keys\n",
    "    print(A.meta[\"author\"])\n",
    "    print(A.meta[\"volume\"])\n",
    "    print(A.meta[\"tuple_int\"])\n",
    "    \n",
    "    # print all keys:\n",
    "    print(A.meta.keys())"
   ]
  },
  {
   "cell_type": "markdown",
   "id": "a795c98c",
   "metadata": {},
   "source": [
    "## Storing multiple attributes"
   ]
  },
  {
   "cell_type": "markdown",
   "id": "35f20071",
   "metadata": {},
   "source": [
    "TileDB allows you to store more than one values in each cell, potentially of different types. This means that the array can have more than one attributes. TileDB is a **\"columnar\"** format, in that it stores the values of each attribute in a separate file, allowing for better compression and faster attribute subselection."
   ]
  },
  {
   "cell_type": "markdown",
   "id": "19617751",
   "metadata": {},
   "source": [
    "Let's create the same 2D array, but now with an extra `char` attribute."
   ]
  },
  {
   "cell_type": "code",
   "execution_count": 44,
   "id": "52f1a000",
   "metadata": {},
   "outputs": [],
   "source": [
    "# Create the two dimensions\n",
    "d1 = tiledb.Dim(name=\"d1\", domain=(1, 4), tile=2, dtype=np.int32)\n",
    "d2 = tiledb.Dim(name=\"d2\", domain=(1, 4), tile=2, dtype=np.int32)\n",
    "\n",
    "# Create a domain using the two dimensions\n",
    "dom2 = tiledb.Domain(d1, d2)\n",
    "\n",
    "# Create two attributes\n",
    "a1 = tiledb.Attr(name=\"a1\", dtype=np.int32)\n",
    "a2 = tiledb.Attr(name=\"a2\", dtype=\"S1\")\n",
    "\n",
    "# Create the array schema, setting `sparse=False` to indicate a dense array\n",
    "schema2 = tiledb.ArraySchema(domain=dom2, sparse=False, attrs=[a1, a2])\n",
    "\n",
    "# Create the array on disk (it will initially be empty)\n",
    "tiledb.Array.create(array_dense_2, schema2)"
   ]
  },
  {
   "cell_type": "markdown",
   "id": "5685ff32",
   "metadata": {},
   "source": [
    "Let's inspect the array schema to see the two attributes listed:"
   ]
  },
  {
   "cell_type": "code",
   "execution_count": 45,
   "id": "a4a86c52",
   "metadata": {},
   "outputs": [
    {
     "data": {
      "text/html": [
       "<table><tr><th>Domain</th></tr><tr><td><table><tr><th>Name</th><th>Domain</th><th>Tile</th><th>Data Type</th><th>Is Var-length</th><th>Filters</th></tr><tr><td>d1</td><td>(1, 4)</td><td>2</td><td>int32</td><td>False</td><td>-</td></tr><tr><td>d2</td><td>(1, 4)</td><td>2</td><td>int32</td><td>False</td><td>-</td></tr></table></td></tr><tr><th>Attributes</th></tr><tr><td><table><tr><th>Name</th><th>Data Type</th><th>Is Var-Len</th><th>Is Nullable</th><th>Filters</th></tr><tr><td>a1</td><td>int32</td><td>False</td><td>False</td><td>-</td></tr><tr><td>a2</td><td>|S1</td><td>False</td><td>False</td><td>-</td></tr></table></td></tr><tr><th>Cell Order</th></tr><tr><td>row-major</td></tr><tr><th>Tile Order</th></tr><tr><td>row-major</td></tr><tr><th>Capacity</th></tr><tr><td>10000</td></tr><tr><th>Sparse</th></tr><tr><td>False</td></tr></table>"
      ],
      "text/plain": [
       "ArraySchema(\n",
       "  domain=Domain(*[\n",
       "    Dim(name='d1', domain=(1, 4), tile=2, dtype='int32'),\n",
       "    Dim(name='d2', domain=(1, 4), tile=2, dtype='int32'),\n",
       "  ]),\n",
       "  attrs=[\n",
       "    Attr(name='a1', dtype='int32', var=False, nullable=False),\n",
       "    Attr(name='a2', dtype='|S1', var=False, nullable=False),\n",
       "  ],\n",
       "  cell_order='row-major',\n",
       "  tile_order='row-major',\n",
       "  capacity=10000,\n",
       "  sparse=False,\n",
       ")"
      ]
     },
     "execution_count": 45,
     "metadata": {},
     "output_type": "execute_result"
    }
   ],
   "source": [
    "# Read the array schema\n",
    "schema = tiledb.ArraySchema.load(array_dense_2)\n",
    "schema"
   ]
  },
  {
   "cell_type": "markdown",
   "id": "afbba0c8",
   "metadata": {},
   "source": [
    "Now let's prepare and write some data to the array:"
   ]
  },
  {
   "cell_type": "code",
   "execution_count": 46,
   "id": "872b4157",
   "metadata": {},
   "outputs": [
    {
     "data": {
      "text/plain": [
       "array([[ 1,  2,  3,  4],\n",
       "       [ 5,  6,  7,  8],\n",
       "       [ 9, 10, 11, 12],\n",
       "       [13, 14, 15, 16]], dtype=int32)"
      ]
     },
     "execution_count": 46,
     "metadata": {},
     "output_type": "execute_result"
    }
   ],
   "source": [
    "# Prepare some data for the first attribute\n",
    "a1_data = np.array([\n",
    "    [1, 2, 3, 4],\n",
    "    [5, 6, 7, 8],\n",
    "    [9, 10, 11, 12],\n",
    "    [13, 14, 15, 16]], dtype=np.int32)\n",
    "a1_data"
   ]
  },
  {
   "cell_type": "code",
   "execution_count": 47,
   "id": "4d128758",
   "metadata": {},
   "outputs": [
    {
     "data": {
      "text/plain": [
       "array([[b'a', b'b', b'c', b'd'],\n",
       "       [b'e', b'f', b'g', b'h'],\n",
       "       [b'i', b'j', b'k', b'l'],\n",
       "       [b'm', b'n', b'o', b'p']], dtype='|S1')"
      ]
     },
     "execution_count": 47,
     "metadata": {},
     "output_type": "execute_result"
    }
   ],
   "source": [
    "# Prepare some data for the second attribute\n",
    "a2_data = np.array([\n",
    "    ['a', 'b', 'c', 'd'],\n",
    "    ['e', 'f', 'g', 'h'],\n",
    "    ['i', 'j', 'k', 'l'],\n",
    "    ['m', 'n', 'o', 'p']], dtype=\"S1\")\n",
    "a2_data"
   ]
  },
  {
   "cell_type": "code",
   "execution_count": 48,
   "id": "f9ad008e",
   "metadata": {},
   "outputs": [],
   "source": [
    "# Write an ordered dictionary, passing one numpy array per attribute\n",
    "with tiledb.open(array_dense_2, 'w') as A:\n",
    "    A[:] = {'a1': a1_data, 'a2': a2_data}"
   ]
  },
  {
   "cell_type": "markdown",
   "id": "ffe1ee62",
   "metadata": {},
   "source": [
    "Let's read all the data back:"
   ]
  },
  {
   "cell_type": "code",
   "execution_count": 49,
   "id": "97fc8cec-331a-4522-b403-c0109cb6c45b",
   "metadata": {},
   "outputs": [],
   "source": [
    "A = tiledb.open(array_dense_2, 'r')"
   ]
  },
  {
   "cell_type": "code",
   "execution_count": 50,
   "id": "0439d3b1",
   "metadata": {},
   "outputs": [
    {
     "name": "stdout",
     "output_type": "stream",
     "text": [
      "[[b'a' b'b' b'c' b'd']\n",
      " [b'e' b'f' b'g' b'h']\n",
      " [b'i' b'j' b'k' b'l']\n",
      " [b'm' b'n' b'o' b'p']]\n"
     ]
    }
   ],
   "source": [
    "print(A[:][\"a2\"])"
   ]
  },
  {
   "cell_type": "markdown",
   "id": "0e4b3083",
   "metadata": {},
   "source": [
    "The above always reads **all** attributes for the given slice. If you wish to read a subset of attributes, there is a faster way that allows fetching only the desired data:"
   ]
  },
  {
   "cell_type": "code",
   "execution_count": 51,
   "id": "370472f5",
   "metadata": {},
   "outputs": [
    {
     "name": "stdout",
     "output_type": "stream",
     "text": [
      "OrderedDict([('a1', array([[ 1,  2,  3,  4],\n",
      "       [ 5,  6,  7,  8],\n",
      "       [ 9, 10, 11, 12],\n",
      "       [13, 14, 15, 16]], dtype=int32))])\n",
      "OrderedDict([('a2', array([[b'a', b'b', b'c', b'd'],\n",
      "       [b'e', b'f', b'g', b'h'],\n",
      "       [b'i', b'j', b'k', b'l'],\n",
      "       [b'm', b'n', b'o', b'p']], dtype='|S1'))])\n"
     ]
    }
   ],
   "source": [
    "print(A.query(attrs=['a1'])[:])\n",
    "print(A.query(attrs=['a2'])[:])"
   ]
  },
  {
   "cell_type": "markdown",
   "id": "42b0b17e",
   "metadata": {},
   "source": [
    "## Variable-length attributes"
   ]
  },
  {
   "cell_type": "markdown",
   "id": "d1381bf9",
   "metadata": {
    "tags": []
   },
   "source": [
    "TileDB supports also variable-length attributes, such as strings. Here is the same 2D array we used above, but now having a single string attribute."
   ]
  },
  {
   "cell_type": "code",
   "execution_count": 52,
   "id": "c6301b3a",
   "metadata": {},
   "outputs": [],
   "source": [
    "# Create the two dimensions\n",
    "d1 = tiledb.Dim(name=\"d1\", domain=(1, 4), tile=2, dtype=np.int32)\n",
    "d2 = tiledb.Dim(name=\"d2\", domain=(1, 4), tile=2, dtype=np.int32)\n",
    "\n",
    "# Create a domain using the two dimensions\n",
    "dom3 = tiledb.Domain(d1, d2)\n",
    "\n",
    "# Create a string attribute\n",
    "a = tiledb.Attr(name=\"a\", dtype=\"S0\")\n",
    "\n",
    "# Create the array schema, setting `sparse=False` to indicate a dense array\n",
    "schema3 = tiledb.ArraySchema(domain=dom3, sparse=False, attrs=[a])\n",
    "\n",
    "# Create the array on disk (it will initially be empty)\n",
    "tiledb.Array.create(array_dense_3, schema3)"
   ]
  },
  {
   "cell_type": "markdown",
   "id": "40067d6b",
   "metadata": {},
   "source": [
    "Let's inspect the array schema:"
   ]
  },
  {
   "cell_type": "code",
   "execution_count": 53,
   "id": "38da4914",
   "metadata": {},
   "outputs": [
    {
     "data": {
      "text/html": [
       "<table><tr><th>Domain</th></tr><tr><td><table><tr><th>Name</th><th>Domain</th><th>Tile</th><th>Data Type</th><th>Is Var-length</th><th>Filters</th></tr><tr><td>d1</td><td>(1, 4)</td><td>2</td><td>int32</td><td>False</td><td>-</td></tr><tr><td>d2</td><td>(1, 4)</td><td>2</td><td>int32</td><td>False</td><td>-</td></tr></table></td></tr><tr><th>Attributes</th></tr><tr><td><table><tr><th>Name</th><th>Data Type</th><th>Is Var-Len</th><th>Is Nullable</th><th>Filters</th></tr><tr><td>a</td><td>|S0</td><td>True</td><td>False</td><td>-</td></tr></table></td></tr><tr><th>Cell Order</th></tr><tr><td>row-major</td></tr><tr><th>Tile Order</th></tr><tr><td>row-major</td></tr><tr><th>Capacity</th></tr><tr><td>10000</td></tr><tr><th>Sparse</th></tr><tr><td>False</td></tr></table>"
      ],
      "text/plain": [
       "ArraySchema(\n",
       "  domain=Domain(*[\n",
       "    Dim(name='d1', domain=(1, 4), tile=2, dtype='int32'),\n",
       "    Dim(name='d2', domain=(1, 4), tile=2, dtype='int32'),\n",
       "  ]),\n",
       "  attrs=[\n",
       "    Attr(name='a', dtype='|S0', var=True, nullable=False),\n",
       "  ],\n",
       "  cell_order='row-major',\n",
       "  tile_order='row-major',\n",
       "  capacity=10000,\n",
       "  sparse=False,\n",
       ")"
      ]
     },
     "execution_count": 53,
     "metadata": {},
     "output_type": "execute_result"
    }
   ],
   "source": [
    "# Read the array schema\n",
    "schema = tiledb.ArraySchema.load(array_dense_3)\n",
    "schema"
   ]
  },
  {
   "cell_type": "markdown",
   "id": "0a33117b",
   "metadata": {},
   "source": [
    "Here is how we write to arrays with string attributes:"
   ]
  },
  {
   "cell_type": "code",
   "execution_count": 54,
   "id": "c07c193b",
   "metadata": {},
   "outputs": [
    {
     "data": {
      "text/plain": [
       "array([['a', 'bb', 'ccc', 'dddd'],\n",
       "       ['e', 'ff', 'ggg', 'hhhh'],\n",
       "       ['i', 'jj', 'kkk', 'llll'],\n",
       "       ['m', 'nn', 'ooo', 'pppp']], dtype=object)"
      ]
     },
     "execution_count": 54,
     "metadata": {},
     "output_type": "execute_result"
    }
   ],
   "source": [
    "# Prepare some data\n",
    "a_data = np.array([\n",
    "    [\"a\", \"bb\", \"ccc\", \"dddd\"],\n",
    "    [\"e\", \"ff\", \"ggg\", \"hhhh\"],\n",
    "    [\"i\", \"jj\", \"kkk\", \"llll\"],\n",
    "    [\"m\", \"nn\", \"ooo\", \"pppp\"]], dtype=object)\n",
    "a_data"
   ]
  },
  {
   "cell_type": "code",
   "execution_count": 55,
   "id": "5099b9b0",
   "metadata": {},
   "outputs": [],
   "source": [
    "# Write to the array\n",
    "with tiledb.open(array_dense_3, 'w') as A:\n",
    "    A[:] = a_data"
   ]
  },
  {
   "cell_type": "markdown",
   "id": "97e826a1",
   "metadata": {},
   "source": [
    "Let's inspect the array:"
   ]
  },
  {
   "cell_type": "code",
   "execution_count": 56,
   "id": "fd2ba5e8",
   "metadata": {},
   "outputs": [
    {
     "name": "stdout",
     "output_type": "stream",
     "text": [
      "\u001b[01;34mdata/array_dense_3\u001b[0m\r\n",
      "├── \u001b[01;34m__commits\u001b[0m\r\n",
      "│   └── __1662758492536_1662758492536_1580272592b54f438b544f4c02e7980f_15.wrt\r\n",
      "├── \u001b[01;34m__fragment_meta\u001b[0m\r\n",
      "├── \u001b[01;34m__fragments\u001b[0m\r\n",
      "│   └── \u001b[01;34m__1662758492536_1662758492536_1580272592b54f438b544f4c02e7980f_15\u001b[0m\r\n",
      "│       ├── __fragment_metadata.tdb\r\n",
      "│       ├── a0.tdb\r\n",
      "│       └── a0_var.tdb\r\n",
      "├── \u001b[01;34m__meta\u001b[0m\r\n",
      "└── \u001b[01;34m__schema\u001b[0m\r\n",
      "    └── __1662758474274_1662758474274_a82446a5074447a691aafb2592fdaa90\r\n",
      "\r\n",
      "6 directories, 5 files\r\n"
     ]
    }
   ],
   "source": [
    "!tree $array_dense_3"
   ]
  },
  {
   "cell_type": "markdown",
   "id": "6151ae4b",
   "metadata": {},
   "source": [
    "Observe that TileDB stores **two files** for a variable-length attribute inside the written fragment folder: `a0_var.tdb` that stores the actual variable-length cell values, and `a0.tdb` that stores the starting offset of each of the cell values for fast identification retrieval."
   ]
  },
  {
   "cell_type": "markdown",
   "id": "2998ad8b",
   "metadata": {},
   "source": [
    "Now let's perform a couple of read queries:"
   ]
  },
  {
   "cell_type": "code",
   "execution_count": 57,
   "id": "abb57619",
   "metadata": {},
   "outputs": [
    {
     "name": "stdout",
     "output_type": "stream",
     "text": [
      "[[b'a' b'bb' b'ccc' b'dddd']\n",
      " [b'e' b'ff' b'ggg' b'hhhh']\n",
      " [b'i' b'jj' b'kkk' b'llll']\n",
      " [b'm' b'nn' b'ooo' b'pppp']]\n",
      "[[b'a']\n",
      " [b'e']]\n"
     ]
    }
   ],
   "source": [
    "with tiledb.open(array_dense_3, 'r') as A:\n",
    "    print(A[:][\"a\"]) # whole array\n",
    "    print(A[1:3, 1:2][\"a\"]) # slice"
   ]
  },
  {
   "cell_type": "markdown",
   "id": "0a647315",
   "metadata": {
    "tags": []
   },
   "source": [
    "## Arrays as dataframes"
   ]
  },
  {
   "cell_type": "markdown",
   "id": "f1a1e062",
   "metadata": {},
   "source": [
    "Arrays are essentially dataframes where dimensions are special (indexed) columns that allow very fast slicing. Revisiting the very first array we created, we can also slice it via the `df` object that returns the results in a `pandas` dataframe:"
   ]
  },
  {
   "cell_type": "code",
   "execution_count": 58,
   "id": "e2a5f2e8-0d50-4869-8af5-7572d72d45e2",
   "metadata": {},
   "outputs": [],
   "source": [
    "A = tiledb.open(array_dense_1, 'r')"
   ]
  },
  {
   "cell_type": "code",
   "execution_count": 59,
   "id": "9873cb76",
   "metadata": {},
   "outputs": [
    {
     "data": {
      "text/html": [
       "<div>\n",
       "<style scoped>\n",
       "    .dataframe tbody tr th:only-of-type {\n",
       "        vertical-align: middle;\n",
       "    }\n",
       "\n",
       "    .dataframe tbody tr th {\n",
       "        vertical-align: top;\n",
       "    }\n",
       "\n",
       "    .dataframe thead th {\n",
       "        text-align: right;\n",
       "    }\n",
       "</style>\n",
       "<table border=\"1\" class=\"dataframe\">\n",
       "  <thead>\n",
       "    <tr style=\"text-align: right;\">\n",
       "      <th></th>\n",
       "      <th>d1</th>\n",
       "      <th>d2</th>\n",
       "      <th>a</th>\n",
       "    </tr>\n",
       "  </thead>\n",
       "  <tbody>\n",
       "    <tr>\n",
       "      <th>0</th>\n",
       "      <td>1</td>\n",
       "      <td>1</td>\n",
       "      <td>1</td>\n",
       "    </tr>\n",
       "    <tr>\n",
       "      <th>1</th>\n",
       "      <td>1</td>\n",
       "      <td>2</td>\n",
       "      <td>2</td>\n",
       "    </tr>\n",
       "    <tr>\n",
       "      <th>2</th>\n",
       "      <td>1</td>\n",
       "      <td>3</td>\n",
       "      <td>3</td>\n",
       "    </tr>\n",
       "    <tr>\n",
       "      <th>3</th>\n",
       "      <td>1</td>\n",
       "      <td>4</td>\n",
       "      <td>4</td>\n",
       "    </tr>\n",
       "    <tr>\n",
       "      <th>4</th>\n",
       "      <td>2</td>\n",
       "      <td>1</td>\n",
       "      <td>5</td>\n",
       "    </tr>\n",
       "    <tr>\n",
       "      <th>5</th>\n",
       "      <td>2</td>\n",
       "      <td>2</td>\n",
       "      <td>6</td>\n",
       "    </tr>\n",
       "    <tr>\n",
       "      <th>6</th>\n",
       "      <td>2</td>\n",
       "      <td>3</td>\n",
       "      <td>7</td>\n",
       "    </tr>\n",
       "    <tr>\n",
       "      <th>7</th>\n",
       "      <td>2</td>\n",
       "      <td>4</td>\n",
       "      <td>8</td>\n",
       "    </tr>\n",
       "    <tr>\n",
       "      <th>8</th>\n",
       "      <td>3</td>\n",
       "      <td>1</td>\n",
       "      <td>9</td>\n",
       "    </tr>\n",
       "    <tr>\n",
       "      <th>9</th>\n",
       "      <td>3</td>\n",
       "      <td>2</td>\n",
       "      <td>10</td>\n",
       "    </tr>\n",
       "    <tr>\n",
       "      <th>10</th>\n",
       "      <td>3</td>\n",
       "      <td>3</td>\n",
       "      <td>11</td>\n",
       "    </tr>\n",
       "    <tr>\n",
       "      <th>11</th>\n",
       "      <td>3</td>\n",
       "      <td>4</td>\n",
       "      <td>12</td>\n",
       "    </tr>\n",
       "    <tr>\n",
       "      <th>12</th>\n",
       "      <td>4</td>\n",
       "      <td>1</td>\n",
       "      <td>13</td>\n",
       "    </tr>\n",
       "    <tr>\n",
       "      <th>13</th>\n",
       "      <td>4</td>\n",
       "      <td>2</td>\n",
       "      <td>14</td>\n",
       "    </tr>\n",
       "    <tr>\n",
       "      <th>14</th>\n",
       "      <td>4</td>\n",
       "      <td>3</td>\n",
       "      <td>15</td>\n",
       "    </tr>\n",
       "    <tr>\n",
       "      <th>15</th>\n",
       "      <td>4</td>\n",
       "      <td>4</td>\n",
       "      <td>16</td>\n",
       "    </tr>\n",
       "  </tbody>\n",
       "</table>\n",
       "</div>"
      ],
      "text/plain": [
       "    d1  d2   a\n",
       "0    1   1   1\n",
       "1    1   2   2\n",
       "2    1   3   3\n",
       "3    1   4   4\n",
       "4    2   1   5\n",
       "5    2   2   6\n",
       "6    2   3   7\n",
       "7    2   4   8\n",
       "8    3   1   9\n",
       "9    3   2  10\n",
       "10   3   3  11\n",
       "11   3   4  12\n",
       "12   4   1  13\n",
       "13   4   2  14\n",
       "14   4   3  15\n",
       "15   4   4  16"
      ]
     },
     "execution_count": 59,
     "metadata": {},
     "output_type": "execute_result"
    }
   ],
   "source": [
    "A.df[:]        # whole array"
   ]
  },
  {
   "cell_type": "code",
   "execution_count": 60,
   "id": "e9f163b2-454a-45c2-b384-d50d68f09f72",
   "metadata": {},
   "outputs": [
    {
     "data": {
      "text/html": [
       "<div>\n",
       "<style scoped>\n",
       "    .dataframe tbody tr th:only-of-type {\n",
       "        vertical-align: middle;\n",
       "    }\n",
       "\n",
       "    .dataframe tbody tr th {\n",
       "        vertical-align: top;\n",
       "    }\n",
       "\n",
       "    .dataframe thead th {\n",
       "        text-align: right;\n",
       "    }\n",
       "</style>\n",
       "<table border=\"1\" class=\"dataframe\">\n",
       "  <thead>\n",
       "    <tr style=\"text-align: right;\">\n",
       "      <th></th>\n",
       "      <th>d1</th>\n",
       "      <th>d2</th>\n",
       "      <th>a</th>\n",
       "    </tr>\n",
       "  </thead>\n",
       "  <tbody>\n",
       "    <tr>\n",
       "      <th>0</th>\n",
       "      <td>1</td>\n",
       "      <td>1</td>\n",
       "      <td>1</td>\n",
       "    </tr>\n",
       "    <tr>\n",
       "      <th>1</th>\n",
       "      <td>1</td>\n",
       "      <td>2</td>\n",
       "      <td>2</td>\n",
       "    </tr>\n",
       "    <tr>\n",
       "      <th>2</th>\n",
       "      <td>2</td>\n",
       "      <td>1</td>\n",
       "      <td>5</td>\n",
       "    </tr>\n",
       "    <tr>\n",
       "      <th>3</th>\n",
       "      <td>2</td>\n",
       "      <td>2</td>\n",
       "      <td>6</td>\n",
       "    </tr>\n",
       "    <tr>\n",
       "      <th>4</th>\n",
       "      <td>3</td>\n",
       "      <td>1</td>\n",
       "      <td>9</td>\n",
       "    </tr>\n",
       "    <tr>\n",
       "      <th>5</th>\n",
       "      <td>3</td>\n",
       "      <td>2</td>\n",
       "      <td>10</td>\n",
       "    </tr>\n",
       "  </tbody>\n",
       "</table>\n",
       "</div>"
      ],
      "text/plain": [
       "   d1  d2   a\n",
       "0   1   1   1\n",
       "1   1   2   2\n",
       "2   2   1   5\n",
       "3   2   2   6\n",
       "4   3   1   9\n",
       "5   3   2  10"
      ]
     },
     "execution_count": 60,
     "metadata": {},
     "output_type": "execute_result"
    }
   ],
   "source": [
    "A.df[1:3, 1:2] # slice"
   ]
  },
  {
   "cell_type": "markdown",
   "id": "53ef212a",
   "metadata": {},
   "source": [
    "We can also subselect on the dimensions and attributes via the `query` object:"
   ]
  },
  {
   "cell_type": "code",
   "execution_count": 61,
   "id": "b0047d17-0784-4cc0-8ebd-ae1d04c5a9dc",
   "metadata": {},
   "outputs": [
    {
     "data": {
      "text/html": [
       "<div>\n",
       "<style scoped>\n",
       "    .dataframe tbody tr th:only-of-type {\n",
       "        vertical-align: middle;\n",
       "    }\n",
       "\n",
       "    .dataframe tbody tr th {\n",
       "        vertical-align: top;\n",
       "    }\n",
       "\n",
       "    .dataframe thead th {\n",
       "        text-align: right;\n",
       "    }\n",
       "</style>\n",
       "<table border=\"1\" class=\"dataframe\">\n",
       "  <thead>\n",
       "    <tr style=\"text-align: right;\">\n",
       "      <th></th>\n",
       "      <th>d1</th>\n",
       "    </tr>\n",
       "  </thead>\n",
       "  <tbody>\n",
       "    <tr>\n",
       "      <th>0</th>\n",
       "      <td>1</td>\n",
       "    </tr>\n",
       "    <tr>\n",
       "      <th>1</th>\n",
       "      <td>1</td>\n",
       "    </tr>\n",
       "    <tr>\n",
       "      <th>2</th>\n",
       "      <td>1</td>\n",
       "    </tr>\n",
       "    <tr>\n",
       "      <th>3</th>\n",
       "      <td>1</td>\n",
       "    </tr>\n",
       "    <tr>\n",
       "      <th>4</th>\n",
       "      <td>2</td>\n",
       "    </tr>\n",
       "    <tr>\n",
       "      <th>5</th>\n",
       "      <td>2</td>\n",
       "    </tr>\n",
       "    <tr>\n",
       "      <th>6</th>\n",
       "      <td>2</td>\n",
       "    </tr>\n",
       "    <tr>\n",
       "      <th>7</th>\n",
       "      <td>2</td>\n",
       "    </tr>\n",
       "    <tr>\n",
       "      <th>8</th>\n",
       "      <td>3</td>\n",
       "    </tr>\n",
       "    <tr>\n",
       "      <th>9</th>\n",
       "      <td>3</td>\n",
       "    </tr>\n",
       "    <tr>\n",
       "      <th>10</th>\n",
       "      <td>3</td>\n",
       "    </tr>\n",
       "    <tr>\n",
       "      <th>11</th>\n",
       "      <td>3</td>\n",
       "    </tr>\n",
       "    <tr>\n",
       "      <th>12</th>\n",
       "      <td>4</td>\n",
       "    </tr>\n",
       "    <tr>\n",
       "      <th>13</th>\n",
       "      <td>4</td>\n",
       "    </tr>\n",
       "    <tr>\n",
       "      <th>14</th>\n",
       "      <td>4</td>\n",
       "    </tr>\n",
       "    <tr>\n",
       "      <th>15</th>\n",
       "      <td>4</td>\n",
       "    </tr>\n",
       "  </tbody>\n",
       "</table>\n",
       "</div>"
      ],
      "text/plain": [
       "    d1\n",
       "0    1\n",
       "1    1\n",
       "2    1\n",
       "3    1\n",
       "4    2\n",
       "5    2\n",
       "6    2\n",
       "7    2\n",
       "8    3\n",
       "9    3\n",
       "10   3\n",
       "11   3\n",
       "12   4\n",
       "13   4\n",
       "14   4\n",
       "15   4"
      ]
     },
     "execution_count": 61,
     "metadata": {},
     "output_type": "execute_result"
    }
   ],
   "source": [
    "A.query(attrs=[], dims=[\"d1\"]).df[:]        # whole array"
   ]
  },
  {
   "cell_type": "code",
   "execution_count": 62,
   "id": "bba1735f",
   "metadata": {},
   "outputs": [
    {
     "data": {
      "text/html": [
       "<div>\n",
       "<style scoped>\n",
       "    .dataframe tbody tr th:only-of-type {\n",
       "        vertical-align: middle;\n",
       "    }\n",
       "\n",
       "    .dataframe tbody tr th {\n",
       "        vertical-align: top;\n",
       "    }\n",
       "\n",
       "    .dataframe thead th {\n",
       "        text-align: right;\n",
       "    }\n",
       "</style>\n",
       "<table border=\"1\" class=\"dataframe\">\n",
       "  <thead>\n",
       "    <tr style=\"text-align: right;\">\n",
       "      <th></th>\n",
       "      <th>d1</th>\n",
       "    </tr>\n",
       "  </thead>\n",
       "  <tbody>\n",
       "    <tr>\n",
       "      <th>0</th>\n",
       "      <td>1</td>\n",
       "    </tr>\n",
       "    <tr>\n",
       "      <th>1</th>\n",
       "      <td>1</td>\n",
       "    </tr>\n",
       "    <tr>\n",
       "      <th>2</th>\n",
       "      <td>2</td>\n",
       "    </tr>\n",
       "    <tr>\n",
       "      <th>3</th>\n",
       "      <td>2</td>\n",
       "    </tr>\n",
       "    <tr>\n",
       "      <th>4</th>\n",
       "      <td>3</td>\n",
       "    </tr>\n",
       "    <tr>\n",
       "      <th>5</th>\n",
       "      <td>3</td>\n",
       "    </tr>\n",
       "  </tbody>\n",
       "</table>\n",
       "</div>"
      ],
      "text/plain": [
       "   d1\n",
       "0   1\n",
       "1   1\n",
       "2   2\n",
       "3   2\n",
       "4   3\n",
       "5   3"
      ]
     },
     "execution_count": 62,
     "metadata": {},
     "output_type": "execute_result"
    }
   ],
   "source": [
    "A.query(attrs=[], dims=[\"d1\"]).df[1:3, 1:2] # slice"
   ]
  },
  {
   "cell_type": "markdown",
   "id": "b50cc955",
   "metadata": {},
   "source": [
    "Note that the ranges inside the `df` object are **inclusive**."
   ]
  },
  {
   "cell_type": "code",
   "execution_count": 63,
   "id": "775f5ce5",
   "metadata": {},
   "outputs": [
    {
     "name": "stderr",
     "output_type": "stream",
     "text": [
      "/home/jdblischak/miniconda3/envs/tiledb/lib/python3.10/site-packages/pandas/io/sql.py:762: UserWarning: pandas only support SQLAlchemy connectable(engine/connection) ordatabase string URI or sqlite3 DBAPI2 connectionother DBAPI2 objects are not tested, please consider using SQLAlchemy\n",
      "  warnings.warn(\n"
     ]
    },
    {
     "data": {
      "text/html": [
       "<div>\n",
       "<style scoped>\n",
       "    .dataframe tbody tr th:only-of-type {\n",
       "        vertical-align: middle;\n",
       "    }\n",
       "\n",
       "    .dataframe tbody tr th {\n",
       "        vertical-align: top;\n",
       "    }\n",
       "\n",
       "    .dataframe thead th {\n",
       "        text-align: right;\n",
       "    }\n",
       "</style>\n",
       "<table border=\"1\" class=\"dataframe\">\n",
       "  <thead>\n",
       "    <tr style=\"text-align: right;\">\n",
       "      <th></th>\n",
       "      <th>d1</th>\n",
       "      <th>d2</th>\n",
       "      <th>a</th>\n",
       "    </tr>\n",
       "  </thead>\n",
       "  <tbody>\n",
       "    <tr>\n",
       "      <th>0</th>\n",
       "      <td>1</td>\n",
       "      <td>1</td>\n",
       "      <td>1</td>\n",
       "    </tr>\n",
       "    <tr>\n",
       "      <th>1</th>\n",
       "      <td>1</td>\n",
       "      <td>2</td>\n",
       "      <td>2</td>\n",
       "    </tr>\n",
       "    <tr>\n",
       "      <th>2</th>\n",
       "      <td>1</td>\n",
       "      <td>3</td>\n",
       "      <td>3</td>\n",
       "    </tr>\n",
       "    <tr>\n",
       "      <th>3</th>\n",
       "      <td>1</td>\n",
       "      <td>4</td>\n",
       "      <td>4</td>\n",
       "    </tr>\n",
       "    <tr>\n",
       "      <th>4</th>\n",
       "      <td>2</td>\n",
       "      <td>1</td>\n",
       "      <td>5</td>\n",
       "    </tr>\n",
       "    <tr>\n",
       "      <th>5</th>\n",
       "      <td>2</td>\n",
       "      <td>2</td>\n",
       "      <td>6</td>\n",
       "    </tr>\n",
       "    <tr>\n",
       "      <th>6</th>\n",
       "      <td>2</td>\n",
       "      <td>3</td>\n",
       "      <td>7</td>\n",
       "    </tr>\n",
       "    <tr>\n",
       "      <th>7</th>\n",
       "      <td>2</td>\n",
       "      <td>4</td>\n",
       "      <td>8</td>\n",
       "    </tr>\n",
       "    <tr>\n",
       "      <th>8</th>\n",
       "      <td>3</td>\n",
       "      <td>1</td>\n",
       "      <td>9</td>\n",
       "    </tr>\n",
       "    <tr>\n",
       "      <th>9</th>\n",
       "      <td>3</td>\n",
       "      <td>2</td>\n",
       "      <td>10</td>\n",
       "    </tr>\n",
       "    <tr>\n",
       "      <th>10</th>\n",
       "      <td>3</td>\n",
       "      <td>3</td>\n",
       "      <td>11</td>\n",
       "    </tr>\n",
       "    <tr>\n",
       "      <th>11</th>\n",
       "      <td>3</td>\n",
       "      <td>4</td>\n",
       "      <td>12</td>\n",
       "    </tr>\n",
       "    <tr>\n",
       "      <th>12</th>\n",
       "      <td>4</td>\n",
       "      <td>1</td>\n",
       "      <td>13</td>\n",
       "    </tr>\n",
       "    <tr>\n",
       "      <th>13</th>\n",
       "      <td>4</td>\n",
       "      <td>2</td>\n",
       "      <td>14</td>\n",
       "    </tr>\n",
       "    <tr>\n",
       "      <th>14</th>\n",
       "      <td>4</td>\n",
       "      <td>3</td>\n",
       "      <td>15</td>\n",
       "    </tr>\n",
       "    <tr>\n",
       "      <th>15</th>\n",
       "      <td>4</td>\n",
       "      <td>4</td>\n",
       "      <td>16</td>\n",
       "    </tr>\n",
       "  </tbody>\n",
       "</table>\n",
       "</div>"
      ],
      "text/plain": [
       "    d1  d2   a\n",
       "0    1   1   1\n",
       "1    1   2   2\n",
       "2    1   3   3\n",
       "3    1   4   4\n",
       "4    2   1   5\n",
       "5    2   2   6\n",
       "6    2   3   7\n",
       "7    2   4   8\n",
       "8    3   1   9\n",
       "9    3   2  10\n",
       "10   3   3  11\n",
       "11   3   4  12\n",
       "12   4   1  13\n",
       "13   4   2  14\n",
       "14   4   3  15\n",
       "15   4   4  16"
      ]
     },
     "execution_count": 63,
     "metadata": {},
     "output_type": "execute_result"
    }
   ],
   "source": [
    "pd.read_sql(sql=f\"select * from `{array_dense_1}`\", con=db)"
   ]
  },
  {
   "cell_type": "code",
   "execution_count": 64,
   "id": "8d8dc83b",
   "metadata": {},
   "outputs": [
    {
     "name": "stderr",
     "output_type": "stream",
     "text": [
      "/home/jdblischak/miniconda3/envs/tiledb/lib/python3.10/site-packages/pandas/io/sql.py:762: UserWarning: pandas only support SQLAlchemy connectable(engine/connection) ordatabase string URI or sqlite3 DBAPI2 connectionother DBAPI2 objects are not tested, please consider using SQLAlchemy\n",
      "  warnings.warn(\n"
     ]
    },
    {
     "data": {
      "text/html": [
       "<div>\n",
       "<style scoped>\n",
       "    .dataframe tbody tr th:only-of-type {\n",
       "        vertical-align: middle;\n",
       "    }\n",
       "\n",
       "    .dataframe tbody tr th {\n",
       "        vertical-align: top;\n",
       "    }\n",
       "\n",
       "    .dataframe thead th {\n",
       "        text-align: right;\n",
       "    }\n",
       "</style>\n",
       "<table border=\"1\" class=\"dataframe\">\n",
       "  <thead>\n",
       "    <tr style=\"text-align: right;\">\n",
       "      <th></th>\n",
       "      <th>a</th>\n",
       "    </tr>\n",
       "  </thead>\n",
       "  <tbody>\n",
       "    <tr>\n",
       "      <th>0</th>\n",
       "      <td>2</td>\n",
       "    </tr>\n",
       "    <tr>\n",
       "      <th>1</th>\n",
       "      <td>3</td>\n",
       "    </tr>\n",
       "    <tr>\n",
       "      <th>2</th>\n",
       "      <td>4</td>\n",
       "    </tr>\n",
       "    <tr>\n",
       "      <th>3</th>\n",
       "      <td>6</td>\n",
       "    </tr>\n",
       "    <tr>\n",
       "      <th>4</th>\n",
       "      <td>7</td>\n",
       "    </tr>\n",
       "    <tr>\n",
       "      <th>5</th>\n",
       "      <td>8</td>\n",
       "    </tr>\n",
       "    <tr>\n",
       "      <th>6</th>\n",
       "      <td>10</td>\n",
       "    </tr>\n",
       "    <tr>\n",
       "      <th>7</th>\n",
       "      <td>11</td>\n",
       "    </tr>\n",
       "    <tr>\n",
       "      <th>8</th>\n",
       "      <td>12</td>\n",
       "    </tr>\n",
       "    <tr>\n",
       "      <th>9</th>\n",
       "      <td>14</td>\n",
       "    </tr>\n",
       "    <tr>\n",
       "      <th>10</th>\n",
       "      <td>15</td>\n",
       "    </tr>\n",
       "    <tr>\n",
       "      <th>11</th>\n",
       "      <td>16</td>\n",
       "    </tr>\n",
       "  </tbody>\n",
       "</table>\n",
       "</div>"
      ],
      "text/plain": [
       "     a\n",
       "0    2\n",
       "1    3\n",
       "2    4\n",
       "3    6\n",
       "4    7\n",
       "5    8\n",
       "6   10\n",
       "7   11\n",
       "8   12\n",
       "9   14\n",
       "10  15\n",
       "11  16"
      ]
     },
     "execution_count": 64,
     "metadata": {},
     "output_type": "execute_result"
    }
   ],
   "source": [
    "pd.read_sql(sql=f\"select a from `{array_dense_1}` where d2 >= 2\", con=db)"
   ]
  },
  {
   "cell_type": "markdown",
   "id": "1ccefd72-e369-4bbb-b393-a3964ae33e0a",
   "metadata": {},
   "source": [
    "Remember to close the array."
   ]
  },
  {
   "cell_type": "code",
   "execution_count": 65,
   "id": "b6a43a46-17d8-4661-8d86-9b55b605c013",
   "metadata": {},
   "outputs": [],
   "source": [
    "A.close()"
   ]
  },
  {
   "cell_type": "code",
   "execution_count": 41,
   "id": "1ba65831",
   "metadata": {},
   "outputs": [],
   "source": [
    "# Optionally delete the created arrays\n",
    "# if os.path.exists(array_dense_1):\n",
    "#    shutil.rmtree(array_dense_1)\n",
    "# if os.path.exists(array_dense_2):\n",
    "#    shutil.rmtree(array_dense_2)\n",
    "# if os.path.exists(array_dense_3):\n",
    "#    shutil.rmtree(array_dense_3)"
   ]
  }
 ],
 "metadata": {
  "kernelspec": {
   "display_name": "Python 3 (ipykernel)",
   "language": "python",
   "name": "python3"
  },
  "language_info": {
   "codemirror_mode": {
    "name": "ipython",
    "version": 3
   },
   "file_extension": ".py",
   "mimetype": "text/x-python",
   "name": "python",
   "nbconvert_exporter": "python",
   "pygments_lexer": "ipython3",
   "version": "3.10.6"
  }
 },
 "nbformat": 4,
 "nbformat_minor": 5
}
